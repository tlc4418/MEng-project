{
 "cells": [
  {
   "cell_type": "code",
   "execution_count": 1,
   "metadata": {},
   "outputs": [],
   "source": [
    "import matplotlib.pyplot as plt\n",
    "import math\n",
    "import tensorflow as tf\n",
    "import numpy as np\n",
    "import os\n",
    "import sys\n",
    "module_path = os.path.abspath(os.path.join('..'))\n",
    "if module_path not in sys.path:\n",
    "    sys.path.append(module_path)\n",
    "\n",
    "# Project imports\n",
    "from slot_attention_and_alignnet.src.dataloaders import DataController, DataLoader\n",
    "\n",
    "SEQ_SIZE = 6\n",
    "\n",
    "d2 = DataController('/media/home/thomas/data', batch_size=1, test_train_split=0, file_name='aai_goals_sequence', load_mode=True, shuffle=False, unbatch=False, gzip=False)\n",
    "val_ds = DataLoader(d2, 1, split=\"validation\")\n",
    "\n",
    "\n",
    "def plot_images(images, columns, size):\n",
    "    file_name = 'dataset_visualization.png'\n",
    "    if len(images) > 0:\n",
    "        rows = math.ceil(len(images))# / columns)\n",
    "        f, ax = plt.subplots(rows, columns, figsize=(size * columns, size * rows))\n",
    "        axes = ax.ravel() if rows * columns > 1 else [ax]\n",
    "        for i, axis in enumerate(axes):\n",
    "            if i < (SEQ_SIZE * (len(images) - 0)):\n",
    "                axis.imshow(np.squeeze(images[i // SEQ_SIZE])[i % SEQ_SIZE])\n",
    "                axis.set_xticks([])\n",
    "                axis.set_yticks([])\n",
    "                axis.set_xlabel(f't = {i % SEQ_SIZE}', fontsize=24)\n",
    "        plt.subplots_adjust(wspace=0.1, hspace=0.1)\n",
    "        f.savefig(file_name, bbox_inches='tight', pad_inches=0, dpi=32)\n",
    "        plt.show()\n",
    "        print(f\"-> Plotted Images at: {file_name}\")\n",
    "\n",
    "columns = SEQ_SIZE\n",
    "image_size = 4\n",
    "\n",
    "plot_images(list(val_ds)[:5], columns, image_size)"
   ]
  }
 ],
 "metadata": {
  "kernelspec": {
   "display_name": "UK-Biobank-Visualisation-3Ed-ZEtV",
   "language": "python",
   "name": "python3"
  },
  "language_info": {
   "codemirror_mode": {
    "name": "ipython",
    "version": 3
   },
   "file_extension": ".py",
   "mimetype": "text/x-python",
   "name": "python",
   "nbconvert_exporter": "python",
   "pygments_lexer": "ipython3",
   "version": "3.8.10"
  },
  "orig_nbformat": 4,
  "vscode": {
   "interpreter": {
    "hash": "102afddf07f330e5546d2fc62682f3a971d8f748676bb2f3022d0023344405f5"
   }
  }
 },
 "nbformat": 4,
 "nbformat_minor": 2
}
